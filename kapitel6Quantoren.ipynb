{
 "cells": [
  {
   "cell_type": "code",
   "execution_count": null,
   "id": "824b10e1-4561-4576-8f07-fd1421910c3f",
   "metadata": {},
   "outputs": [],
   "source": [
    "# Hier werden eventuell benötigte Module importiert"
   ]
  },
  {
   "cell_type": "markdown",
   "id": "f67c2948-f8a1-4294-837b-d244b057e897",
   "metadata": {},
   "source": [
    "<b>Aufgabe</b>: Wie viele verschiedene bijektive Funktionen gibt es, wenn die Definitions- und Wertemenge jeweils 4 Elemente enthalten?"
   ]
  },
  {
   "cell_type": "markdown",
   "id": "eea65525-05d5-4cee-8819-e27e3c5a9994",
   "metadata": {},
   "source": [
    "<b>1. Implementierung der Aufgabe in Python für ein Beispiel</b>"
   ]
  },
  {
   "cell_type": "markdown",
   "id": "43d91a7a-c7f4-4949-9472-74a7d4a4b3c3",
   "metadata": {},
   "source": [
    "<b>1.1 Definitionen</b>\n",
    "    \n",
    "Eine bijektive Funktion ist eine Eins-zu-Eins-Zuordnung zwischen den Elementen der Definitionsmenge und den Elementen der Wertemenge. Dies entspricht einer Permutation der Elemente."
   ]
  },
  {
   "cell_type": "code",
   "execution_count": null,
   "id": "380bec83-c65f-4c56-a4b0-d490492ac71b",
   "metadata": {},
   "outputs": [],
   "source": [
    "import itertools"
   ]
  },
  {
   "cell_type": "markdown",
   "id": "6563aef8-d9ff-4e0b-8ca5-23ab28bb3367",
   "metadata": {},
   "source": [
    "Eine 4-elementige Beispielmenge:"
   ]
  },
  {
   "cell_type": "code",
   "execution_count": null,
   "id": "ce8994b4-eb82-4c7e-bbe3-468de5a2655a",
   "metadata": {},
   "outputs": [],
   "source": [
    "A = [1, 2, 3, 4]"
   ]
  },
  {
   "cell_type": "markdown",
   "id": "f561798e-5132-4647-a5ae-ca2cd1582a8a",
   "metadata": {},
   "source": [
    "Die folgende Berechnung ermittelt alle bijektiven Funktionen (Permutationen) und gibt deren Anzahl aus:"
   ]
  },
  {
   "cell_type": "code",
   "execution_count": null,
   "id": "4bf636d9-aa33-475a-9697-8aef4075cc41",
   "metadata": {},
   "outputs": [],
   "source": [
    "# Berechnen aller Permutationen der Menge A\n",
    "permutations = list(itertools.permutations(A))\n",
    "\n",
    "# Anzahl der Permutationen (bijektive Funktionen)\n",
    "number_of_bijective_functions = len(permutations)\n",
    "\n",
    "number_of_bijective_functions"
   ]
  },
  {
   "cell_type": "markdown",
   "id": "da93262a-fe7d-4ec2-aa27-f26a6713619f",
   "metadata": {},
   "source": [
    "<b>1.2 Erklärungen</b>\n",
    "\n",
    "Wir haben die Anzahl der Permutationen der Menge A berechnet. Die Funktion `itertools.permutations` generiert alle möglichen Reihenfolgen (Permutationen) der Elemente in A. Da A vier Elemente enthält, gibt es 4! (4 Fakultät) Permutationen. Das Ergebnis ist 24, was bedeutet, dass es 24 verschiedene bijektive Funktionen gibt."
   ]
  },
  {
   "cell_type": "markdown",
   "id": "2932d3d4-104d-4cde-8863-6873707873ca",
   "metadata": {},
   "source": [
    "Die Permutationen (bijektive Funktionen) sind:"
   ]
  },
  {
   "cell_type": "code",
   "execution_count": null,
   "id": "34a3f494-355a-46cb-b5eb-0aeb92c749ee",
   "metadata": {},
   "outputs": [],
   "source": [
    "permutations"
   ]
  },
  {
   "cell_type": "markdown",
   "id": "32107fd2-ef0b-421e-bfc8-ebfcf3f5e285",
   "metadata": {},
   "source": [
    "<b>2. Mathematische Begründung</b>\n",
    "\n",
    "Die Anzahl der bijektiven Funktionen zwischen zwei Mengen mit jeweils n Elementen entspricht der Anzahl der Permutationen dieser n Elemente. Für n = 4 berechnet sich dies als 4!, was 24 ergibt.\n",
    "\n",
    "Da jede bijektive Funktion eine eindeutige Zuordnung zwischen den Elementen der beiden Mengen darstellt, ist die Anzahl der bijektiven Funktionen genau die Anzahl der möglichen Permutationen."
   ]
  },
  {
   "cell_type": "markdown",
   "id": "cf3838f0-a07d-42ee-9a56-b6c137ac7aa4",
   "metadata": {},
   "source": [
    "<b>2.1 Für beliebig große Mengen</b>\n",
    "\n",
    "Für eine Menge mit n Elementen gibt es n! Permutationen. Dies bedeutet, dass es n! bijektive Funktionen zwischen zwei Mengen mit jeweils n Elementen gibt. Diese Eigenschaft gilt unabhängig von der Größe der Mengen."
   ]
  },
  {
   "cell_type": "markdown",
   "id": "1c00af71-76b3-4df7-86fb-709ba7ca204a",
   "metadata": {},
   "source": [
    "<b>2.2 Quellenangabe</b>\n",
    "\n",
    "Ich habe alle Berechnungen und Erklärungen selbst durchgeführt. Für allgemeine Informationen zu Permutationen habe ich auf die Wikipedia-Seite zu Permutationen zurückgegriffen: https://de.wikipedia.org/wiki/Permutation"
   ]
  },
  {
   "cell_type": "code",
   "execution_count": null,
   "id": "2c332795-1f35-4e36-b0e1-59b541789d0d",
   "metadata": {},
   "outputs": [],
   "source": []
  }
 ],
 "metadata": {
  "kernelspec": {
   "display_name": "Python 3 (ipykernel)",
   "language": "python",
   "name": "python3"
  },
  "language_info": {
   "codemirror_mode": {
    "name": "ipython",
    "version": 3
   },
   "file_extension": ".py",
   "mimetype": "text/x-python",
   "name": "python",
   "nbconvert_exporter": "python",
   "pygments_lexer": "ipython3",
   "version": "3.10.8"
  }
 },
 "nbformat": 4,
 "nbformat_minor": 5
}
