{
 "cells": [
  {
   "cell_type": "code",
   "execution_count": None,
   "id": "824b10e1-4561-4576-8f07-fd1421910c3f",
   "metadata": {},
   "outputs": [],
   "source": [
    "# Importieren von itertools für kombinatorische Operationen",
    "import itertools"
   ]
  },
  {
   "cell_type": "markdown",
   "id": "f67c2948-f8a1-4294-837b-d244b057e897",
   "metadata": {},
   "source": [
    "<b>Aufgabe</b>: Wie viele verschiedene irrefliexive Relationen gibt es auf einer Menge mit 3 Elementen?"
   ]
  },
  {
   "cell_type": "markdown",
   "id": "eea65525-05d5-4cee-8819-e27e3c5a9994",
   "metadata": {},
   "source": [
    "<b>1. Implementierung der Aufgabe in Python für ein Beispiel</b>"
   ]
  },
  {
   "cell_type": "markdown",
   "id": "43d91a7a-c7f4-4949-9472-74a7d4a4b3c3",
   "metadata": {},
   "source": [
    "<b>1.1 Definitionen</b>\n",
    "    \n",
    "Eine irrefliexive Relation auf einer Menge A ist eine Relation, die kein Paar (a, a) für alle a in A enthält."
   ]
  },
  {
   "cell_type": "code",
   "execution_count": None,
   "id": "380bec83-c65f-4c56-a4b0-d490492ac71b",
   "metadata": {},
   "outputs": [],
   "source": [
    "# Menge A mit 3 Elementen",
    "A = {1, 2, 3}"
   ]
  },
  {
   "cell_type": "markdown",
   "id": "6563aef8-d9ff-4e0b-8ca5-23ab28bb3367",
   "metadata": {},
   "source": [
    "Berechnen des kartesischen Produkts von A mit sich selbst und Entfernen der Reflexiv-Paare:"
   ]
  },
  {
   "cell_type": "code",
   "execution_count": None,
   "id": "4bf636d9-aa33-475a-9697-8aef4075cc41",
   "metadata": {},
   "outputs": [],
   "source": [
    "# Kartesisches Produkt A x A",
    "pairs = list(itertools.product(A, repeat=2))",
    "\n",
    "# Entfernen der Reflexiv-Paare",
    "irrefliexive_pairs = [pair for pair in pairs if pair[0] != pair[1]]",
    "\n",
    "irrefliexive_pairs"
   ]
  },
  {
   "cell_type": "markdown",
   "id": "dd7a357d-e72a-43d1-ae9d-4c4bfa3e51c6",
   "metadata": {},
   "source": [
    "Berechnen der Anzahl der irrefliexiven Relationen:"
   ]
  },
  {
   "cell_type": "code",
   "execution_count": None,
   "id": "0eb763ae-a70f-4759-921c-7ce10852de4d",
   "metadata": {},
   "outputs": [],
   "source": [
    "# Anzahl der irrefliexiven Relationen",
    "num_irrefliexive_relations = 2 ** len(irrefliexive_pairs)",
    "\n",
    "num_irrefliexive_relations"
   ]
  },
  {
   "cell_type": "markdown",
   "id": "da93262a-fe7d-4ec2-aa27-f26a6713619f",
   "metadata": {},
   "source": [
    "<b>1.2 Erklärungen</b>\n",
    "\n",
    "Um die Anzahl der irrefliexiven Relationen zu berechnen, haben wir zunächst alle möglichen Paare im kartesischen Produkt der Menge A mit sich selbst gebildet. Dann haben wir alle Reflexiv-Paare entfernt, um die irrefliexiven Paare zu erhalten. Schließlich haben wir die Anzahl der möglichen irrefliexiven Relationen berechnet, indem wir für jedes irrefliexive Paar zwei Möglichkeiten (enthalten oder nicht enthalten) berücksichtigt haben."
   ]
  },
  {
   "cell_type": "markdown",
   "id": "2932d3d4-104d-4cde-8863-6873707873ca",
   "metadata": {},
   "source": [
    "Die irrefliexiven Paare sind:"
   ]
  },
  {
   "cell_type": "code",
   "execution_count": None,
   "id": "34a3f494-355a-46cb-b5eb-0aeb92c749ee",
   "metadata": {},
   "outputs": [],
   "source": [
    "irrefliexive_pairs"
   ]
  },
  {
   "cell_type": "markdown",
   "id": "84418c4d-1ac6-4fe0-a847-b8975497a4be",
   "metadata": {},
   "source": [
    "Wenn man sich die irrefliexiven Paare ansieht, sieht man, dass keine Paare der Form (a, a) enthalten sind."
   ]
  },
  {
   "cell_type": "markdown",
   "id": "32107fd2-ef0b-421e-bfc8-ebfcf3f5e285",
   "metadata": {},
   "source": [
    "<b>2. Mathematische Begründung</b>\n",
    "\n",
    "Eine Relation R auf einer Menge A ist irrefliexiv, wenn für alle a in A gilt: (a, a) ist nicht in R. Für eine Menge A mit 3 Elementen gibt es insgesamt 9 mögliche geordnete Paare, von denen 3 Paare (die Reflexiv-Paare) ausgeschlossen werden müssen. Es verbleiben 6 Paare, die jeweils in der Relation enthalten sein können oder nicht. Die Anzahl der irrefliexiven Relationen ist somit 2^6 = 64.\n"
   ]
  },
  {
   "cell_type": "markdown",
   "id": "1c00af71-76b3-4df7-86fb-709ba7ca204a",
   "metadata": {},
   "source": [
    "<b>2.1 Für beliebig große Mengen</b>\n",
    "\n",
    "Die Anzahl der irrefliexiven Relationen auf einer Menge mit n Elementen kann ebenfalls berechnet werden. Es gibt insgesamt n^2 mögliche Paare im kartesischen Produkt. Davon müssen n Reflexiv-Paare ausgeschlossen werden. Es verbleiben n^2 - n irrefliexive Paare. Die Anzahl der irrefliexiven Relationen ist somit 2^(n^2 - n).\n"
   ]
  },
  {
   "cell_type": "markdown",
   "id": "cf3838f0-a07d-42ee-9a56-b6c137ac7aa4",
   "metadata": {},
   "source": [
    "<b>2.2 Quellenangabe</b>\n",
    "\n",
    "Ich habe alles selbst erstellt und keine weiteren Quellen verwendet."
   ]
  },
  {
   "cell_type": "code",
   "execution_count": None,
   "id": "2c332795-1f35-4e36-b0e1-59b541789d0d",
   "metadata": {},
   "outputs": [],
   "source": []
  }
 ],
 "metadata": {
  "kernelspec": {
   "display_name": "Python 3 (ipykernel)",
   "language": "python",
   "name": "python3"
  },
  "language_info": {
   "codemirror_mode": {
    "name": "ipython",
    "version": 3
   },
   "file_extension": ".py",
   "mimetype": "text/x-python",
   "name": "python",
   "nbconvert_exporter": "python",
   "pygments_lexer": "ipython3",
   "version": "3.10.8"
  }
 },
 "nbformat": 4,
 "nbformat_minor": 5
}
